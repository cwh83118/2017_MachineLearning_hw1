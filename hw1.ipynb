{
 "cells": [
  {
   "cell_type": "markdown",
   "metadata": {},
   "source": [
    "## Polynomial Curve Fitting\n",
    "We are going to implement linear regression."
   ]
  },
  {
   "cell_type": "code",
   "execution_count": 30,
   "metadata": {
    "collapsed": true
   },
   "outputs": [],
   "source": [
    "import pandas as pd\n",
    "import numpy as np\n",
    "from numpy.linalg import inv"
   ]
  },
  {
   "cell_type": "markdown",
   "metadata": {},
   "source": [
    "### load input and target data"
   ]
  },
  {
   "cell_type": "code",
   "execution_count": 55,
   "metadata": {},
   "outputs": [
    {
     "name": "stdout",
     "output_type": "stream",
     "text": [
      "0    2.383277\n",
      "1    5.199877\n",
      "2    4.333231\n",
      "3    3.249923\n",
      "4    2.599939\n",
      "5    1.083308\n",
      "6    3.466585\n",
      "7    5.416539\n",
      "8    4.766554\n",
      "9    3.683247\n",
      "Name: x, dtype: float64\n"
     ]
    }
   ],
   "source": [
    "data_dir = './data/'\n",
    "train_f = '4_train.csv'\n",
    "test_f = '4_test.csv'\n",
    "df_tr = pd.read_csv(data_dir+train_f)\n",
    "df_ts = pd.read_csv(data_dir+test_f)\n",
    "tr_target = df_tr['t']\n",
    "tr_input = df_tr['x']\n",
    "ts_target = df_ts['t']\n",
    "ts_input = df_ts['x']\n",
    "N_tr = len(tr_target)\n",
    "N_ts = len(ts_target)\n",
    "# print(type(tr_target))\n",
    "# print(len(tr_target))\n",
    "# print(tr_target[19])\n",
    "# print(tr_target)\n",
    "print(ts_input)"
   ]
  },
  {
   "cell_type": "markdown",
   "metadata": {},
   "source": [
    "### Training stage\n",
    "fit the data by applying a polynomial function of the form:\n",
    "$$y(x, w) = w_{0} + w_{1}*x + w_{1}*x^{2} + ... + w_{M}*x^{M} = \\sum_{j=0}^{M}w_j*x^{j}$$\n",
    "\n",
    "and minimize the Error function at the same time, the error function look as follows:\n",
    "$$E(w) = \\frac{1}{2}*\\sum_{n=1}^{N}(y(x_n,w)-t_n)^{2} $$"
   ]
  },
  {
   "cell_type": "code",
   "execution_count": 59,
   "metadata": {},
   "outputs": [
    {
     "name": "stdout",
     "output_type": "stream",
     "text": [
      "testing rms-Err for M = 1 is 2.43625016533.\n",
      "testing rms-Err for M = 1 is 2.55512423758.\n",
      "testing rms-Err for M = 2 is 2.09847079707.\n",
      "testing rms-Err for M = 2 is 2.272433502.\n",
      "testing rms-Err for M = 3 is 2.09426470667.\n",
      "testing rms-Err for M = 3 is 2.20199758179.\n",
      "testing rms-Err for M = 4 is 2.0678005492.\n",
      "testing rms-Err for M = 4 is 2.08337259908.\n",
      "testing rms-Err for M = 5 is 1.11914381432.\n",
      "testing rms-Err for M = 5 is 1.25146852378.\n",
      "testing rms-Err for M = 6 is 1.11663205567.\n",
      "testing rms-Err for M = 6 is 1.21720169395.\n",
      "testing rms-Err for M = 7 is 0.836488442361.\n",
      "testing rms-Err for M = 7 is 1.56119720846.\n",
      "testing rms-Err for M = 8 is 0.816067604021.\n",
      "testing rms-Err for M = 8 is 1.48315822277.\n",
      "testing rms-Err for M = 9 is 0.752874115134.\n",
      "testing rms-Err for M = 9 is 1.5594867296.\n"
     ]
    }
   ],
   "source": [
    "'''\n",
    "base on the formula we can then know that the best W = (phi^T * phi)^-1 * phi^T * t.\n",
    "which phi = [[x1^0,x1^1....x1^M],[x2^0,x2^1....x2^M], .... [xN^0,xN^1....xN^M]]\n",
    "which t = [t1,t2,t3 ... ,tN]\n",
    "The output result of W would be in dimension of (M+1)*1\n",
    "''' \n",
    "\n",
    "tr_rms_ary = []\n",
    "ts_rms_ary = []\n",
    "for M in range(1,10):\n",
    "    # Init data-num, valu-M and matrix-initialization\n",
    "    N = len(tr_input)\n",
    "    Phi_mat = np.zeros((N,M+1))\n",
    "    T = np.zeros((N,1))\n",
    "    W = np.zeros((M,1))\n",
    "    # print(Phi_mat.shape)\n",
    "\n",
    "    for r_idx in range(Phi_mat.shape[0]):\n",
    "        for c_idx in range(Phi_mat.shape[1]):\n",
    "            Phi_mat[r_idx][c_idx] = tr_input[r_idx]**(c_idx)\n",
    "\n",
    "        T[r_idx][0] = tr_target[r_idx]\n",
    "\n",
    "    # Start calculating W result\n",
    "    phi_transpose = Phi_mat.transpose()\n",
    "    W_tmp = inv(np.dot(phi_transpose , Phi_mat))\n",
    "    W = np.dot( np.dot(W_tmp , phi_transpose) , T)\n",
    "\n",
    "\n",
    "    # Root mean square\n",
    "    def poly_func (x, w_ary):\n",
    "        y = 0\n",
    "        for i in range(len(w_ary)):\n",
    "            y += w_ary[i]*(x**i)\n",
    "        return y\n",
    "\n",
    "    def Cal_rms(length, input_data, target_data, W):\n",
    "        Err = 0\n",
    "        for n in range(length):\n",
    "            # careful on the transpose result have to index into it again\n",
    "            Err += (poly_func(input_data[n], W.transpose()[0]) - target_data[n])**2 \n",
    "        Err /= 2\n",
    "        RMS_err = np.sqrt((2*Err)/length)\n",
    "        \n",
    "        return RMS_err\n",
    "    \n",
    "    RMS_err_tr = Cal_rms(N_tr, tr_input, tr_target, W)\n",
    "    RMS_err_ts = Cal_rms(N_ts, ts_input, ts_target, W)\n",
    "    tr_rms_ary.append(RMS_err_tr)\n",
    "    ts_rms_ary.append(RMS_err_ts)\n",
    "    \n",
    "    print('testing rms-Err for M = %s is %s.' % (str(M),str(RMS_err_tr)))\n",
    "    print('testing rms-Err for M = %s is %s.' % (str(M),str(RMS_err_ts)))\n",
    "    \n",
    "#     Err_tr = 0\n",
    "#     Err_ts = 0\n",
    "#     for n in range(N_tr):\n",
    "#         # careful on the transpose result have to index into it again\n",
    "#         Err_tr += (poly_func(tr_input[n], W.transpose()[0]) - tr_target[n])**2 \n",
    "#     Err_tr /= 2\n",
    "#     RMS_err_tr = np.sqrt((2*Err_tr)/N_tr)\n",
    "#     print('training rms-Err for M = %s is %s.' % (str(M),str(RMS_err_tr)))\n",
    "#     for n in range(N_ts):\n",
    "#         # careful on the transpose result have to index into it again\n",
    "#         Err_ts += (poly_func(ts_input[n], W.transpose()[0]) - ts_target[n])**2 \n",
    "#     Err_ts /= 2\n",
    "#     RMS_err_ts = np.sqrt((2*Err_ts)/N_ts)\n",
    "#     print('testing rms-Err for M = %s is %s.' % (str(M),str(RMS_err_ts)))"
   ]
  },
  {
   "cell_type": "code",
   "execution_count": 77,
   "metadata": {},
   "outputs": [
    {
     "data": {
      "image/png": "[encoded data removed]",
      "text/plain": [
       "<matplotlib.figure.Figure at 0x11d692780>"
      ]
     },
     "metadata": {},
     "output_type": "display_data"
    }
   ],
   "source": [
    "# visualize result\n",
    "import matplotlib.pyplot as plt\n",
    "%matplotlib inline\n",
    "\n",
    "cmap = plt.get_cmap('gnuplot')\n",
    "colors = [cmap(i) for i in np.linspace(0, 1, 4)]\n",
    "plt.plot(range(1,10),tr_rms_ary ,color=colors[1], label='training-RMS_err'.format(i=0))\n",
    "plt.plot(range(1,10),ts_rms_ary ,color=colors[2], label='testing-RMS_err'.format(i=1))\n",
    "#          'ro-', label='training-RMSerr'.format(0),range(1,10),ts_rms_ary,'bo-',label='testing-RMSerr'.format(0))\n",
    "# plt.axis([0, 6, 0, 20])\n",
    "plt.legend(loc='best')\n",
    "plt.show()"
   ]
  },
  {
   "cell_type": "code",
   "execution_count": 35,
   "metadata": {},
   "outputs": [
    {
     "data": {
      "text/plain": [
       "array([[  7.,  10.],\n",
       "       [ 15.,  22.]])"
      ]
     },
     "execution_count": 35,
     "metadata": {},
     "output_type": "execute_result"
    }
   ],
   "source": [
    "\n",
    "# test functino on dot\n",
    "a = np.array([[1., 2.], [3., 4.]])\n",
    "b = np.array([[1., 2.], [3., 4.]])\n",
    "np.dot(a, b)"
   ]
  },
  {
   "cell_type": "code",
   "execution_count": 33,
   "metadata": {},
   "outputs": [
    {
     "data": {
      "text/plain": [
       "array([[  7.,  10.],\n",
       "       [ 15.,  22.]])"
      ]
     },
     "execution_count": 33,
     "metadata": {},
     "output_type": "execute_result"
    }
   ],
   "source": []
  },
  {
   "cell_type": "code",
   "execution_count": null,
   "metadata": {
    "collapsed": true
   },
   "outputs": [],
   "source": []
  }
 ],
 "metadata": {
  "kernelspec": {
   "display_name": "Python 3",
   "language": "python",
   "name": "python3"
  },
  "language_info": {
   "codemirror_mode": {
    "name": "ipython",
    "version": 3
   },
   "file_extension": ".py",
   "mimetype": "text/x-python",
   "name": "python",
   "nbconvert_exporter": "python",
   "pygments_lexer": "ipython3",
   "version": "3.6.2"
  }
 },
 "nbformat": 4,
 "nbformat_minor": 2
}
