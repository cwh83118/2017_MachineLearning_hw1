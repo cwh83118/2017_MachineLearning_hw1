{
 "cells": [
  {
   "cell_type": "markdown",
   "metadata": {},
   "source": [
    "## Polynomial Regression\n",
    "Apply polynomial regression on real-world problem which has multi-dimension on input data.</br>\n",
    "\n",
    "##### Data\n",
    "There are 3 classes of 50 instances for each. </br>\n",
    "The first 40 samples of each class are used as training set, and the last 10 samples as testing set.</br>\n",
    "\n",
    "**Number of attributes**: 5 (4-dim input (data), 1-dim targrt (class-label))"
   ]
  },
  {
   "cell_type": "code",
   "execution_count": 31,
   "metadata": {
    "collapsed": true
   },
   "outputs": [],
   "source": [
    "import pandas as pd\n",
    "import numpy as np\n",
    "from numpy.linalg import inv,matrix_power\n",
    "from scipy.io import loadmat"
   ]
  },
  {
   "cell_type": "markdown",
   "metadata": {},
   "source": [
    "### Load and preprocess data"
   ]
  },
  {
   "cell_type": "code",
   "execution_count": 120,
   "metadata": {},
   "outputs": [
    {
     "name": "stdout",
     "output_type": "stream",
     "text": [
      "[ 6.9  3.1  5.4  2.1]\n"
     ]
    }
   ],
   "source": [
    "data_dir = './data/'\n",
    "x = loadmat(data_dir+'5_X.mat')['X']\n",
    "t = loadmat(data_dir+'5_T.mat')['T']\n",
    "# print(tr)\n",
    "# print(ts)\n",
    "\n",
    "x_dim = 4\n",
    "t_dim = 1\n",
    "\n",
    "# prepare to divide into training and testing\n",
    "x = x.reshape(3,50,4)\n",
    "t = t.reshape(3,50)\n",
    "\n",
    "# divide into train and test\n",
    "n_per_class = 50 \n",
    "tr_x = np.zeros((120,x_dim))\n",
    "ts_x = np.zeros((30,x_dim))\n",
    "tr_t = np.zeros(120)\n",
    "ts_t = np.zeros(30)\n",
    "for cls in [0,1,2]:\n",
    "    tr_x[(cls)*40:(cls+1)*40] = x[cls][:40]\n",
    "    ts_x[(cls)*10:(cls+1)*10] = x[cls][40:]\n",
    "    tr_t[(cls)*40:(cls+1)*40] = t[cls][:40]\n",
    "    ts_t[(cls)*10:(cls+1)*10] = t[cls][40:]\n",
    "\n",
    "N_tr = len(tr_t)\n",
    "N_ts = len(ts_t)\n",
    "\n",
    "print(tr_x[119])"
   ]
  },
  {
   "cell_type": "markdown",
   "metadata": {},
   "source": [
    "### Apply regression for class estimation by minimizing the non-regularized error function\n",
    "\n",
    "The error function looks like below:\n",
    "\n",
    "$$E(w) = \\frac{1}{2}*\\sum_{n=1}^{N}(y(x_n,w)-t_n)^{2} $$\n",
    "\n",
    "However, since our input, x, now turn to be multi-dimension, the polynomial function should be generalized, here is an example of order=2 (**M=2**):\n",
    "\n",
    "\n",
    "$$y(x,w) = w_0 + \\sum_{i=1}^{D}w_i*x_i + \\sum_{i=1}^{D}\\sum_{j=1}^{D}w_{ij}*x_i*x_j $$\n",
    "\n",
    "note that in this problem, the dimension, D, equals to 4"
   ]
  },
  {
   "cell_type": "code",
   "execution_count": 124,
   "metadata": {},
   "outputs": [
    {
     "name": "stdout",
     "output_type": "stream",
     "text": [
      "[1.0, 6.9, 3.1, 5.4, 2.1]\n",
      "[[ 1.18784287]\n",
      " [-0.14574959]\n",
      " [-0.00561512]\n",
      " [ 0.28516771]\n",
      " [ 0.50820959]]\n",
      "training rms-Err for M = 1 is 0.226279143015.\n",
      "testing rms-Err for M = 1 is 0.171124893337.\n",
      "[1.0, 6.9, 3.1, 5.4, 2.1]\n",
      "[1.0, 6.9, 3.1, 5.4, 2.1, 47.61, 21.39, 37.26, 14.49, 21.39, 9.61, 16.74, 6.51, 37.26, 16.74, 29.16, 11.34, 14.49, 6.51, 11.34, 4.41]\n",
      "[[ -2.93370657e+03]\n",
      " [  7.91788753e+02]\n",
      " [  1.79349757e+02]\n",
      " [ -1.29746368e+02]\n",
      " [ -3.47921991e+01]\n",
      " [ -3.72590599e+01]\n",
      " [ -5.06103513e+00]\n",
      " [  7.25351435e+11]\n",
      " [ -6.30271188e+00]\n",
      " [ -3.49653083e+01]\n",
      " [  3.41726097e-01]\n",
      " [ -3.77224091e+12]\n",
      " [  2.26118373e+01]\n",
      " [ -7.25351435e+11]\n",
      " [  3.77224091e+12]\n",
      " [  1.18238994e+00]\n",
      " [  3.12321849e+00]\n",
      " [  4.93067984e+00]\n",
      " [ -1.29949572e+01]\n",
      " [ -4.74951388e+00]\n",
      " [  6.25962140e-01]]\n",
      "training rms-Err for M = 2 is 128.884818701.\n",
      "testing rms-Err for M = 2 is 115.754339859.\n"
     ]
    }
   ],
   "source": [
    "'''\n",
    "compare to preoblem4, the only difference is the form of 'phi', o.w. the other stuffs like the solution of W still \n",
    "equals to (phi^T * phi)^-1 * phi^T * t.\n",
    "phi = [[x1^0,x1^1....x1^M],[x2^0,x2^1....x2^M], .... [xN^0,xN^1....xN^M]], while each x1, x2, ... xN are all in \n",
    "'Vector' form.\n",
    "t = [t1,t2,t3 ... ,tN], which are just 'class-label' of each xN\n",
    "'''\n",
    "def VecPower(vec, power):\n",
    "    vec = np.asarray(vec).reshape(1,len(vec))\n",
    "    mat_prev = 1\n",
    "    for i in range(power):\n",
    "        mat = np.dot(mat_prev,  vec)\n",
    "        mat_prev = mat.reshape(-1,1) # reshape as (_,1)\n",
    "    \n",
    "    result = list(mat.reshape(1,-1)[0])\n",
    "    result = [float(format(x, '.3f')) for x in result]\n",
    "\n",
    "    return result\n",
    "\n",
    "tr_rms_ary = []\n",
    "ts_rms_ary = []\n",
    "Ms = [1,2]\n",
    "for M in Ms:\n",
    "    # Init data-num, valu-M and matrix-initialization\n",
    "    # initial phi_mat with [[x1^{0}],[x2^{0}], ... ,[xN^{0}]], and turn it into list-type to prepare concate.\n",
    "    Phi_mat = [list(x) for x in np.ones((N_tr,1))]\n",
    "    T = np.zeros((N_tr,1))\n",
    "    W = []\n",
    "\n",
    "    for r_idx in range(N_tr):\n",
    "        for c_idx in range(M):\n",
    "            # concate diff. power of same xN result in one row\n",
    "            \n",
    "            Phi_mat[r_idx] = Phi_mat[r_idx] + VecPower(tr_x[r_idx],c_idx+1)\n",
    "            if r_idx == 119:\n",
    "                print(Phi_mat[119])\n",
    "\n",
    "        T[r_idx][0] = tr_t[r_idx]\n",
    "\n",
    "    Phi_mat = np.asarray(Phi_mat)\n",
    "    \n",
    "    # Start calculating W result\n",
    "    phi_transpose = Phi_mat.transpose()\n",
    "    W_tmp = inv(np.dot(phi_transpose , Phi_mat))\n",
    "    W = np.dot( np.dot(W_tmp , phi_transpose) , T)\n",
    "\n",
    "#     print(T)\n",
    "    print(W)\n",
    "#     print(W.T[0])\n",
    "#     print(len(W))\n",
    "    \n",
    "    \n",
    "    # Root mean square\n",
    "    def SumOverDim(sum_n, w, idx, x):\n",
    "        val = 0\n",
    "        if sum_n == 1:\n",
    "            for d in range(len(x)):\n",
    "                val += w[idx]*x[d]\n",
    "                idx += 1\n",
    "        elif sum_n == 2:\n",
    "            for d_i in range(len(x)):\n",
    "                for d_j in range(len(x)):\n",
    "                    val += w[idx]*x[d_i]*x[d_j]\n",
    "                    idx += 1\n",
    "                    \n",
    "        return val, idx\n",
    "                \n",
    "    def poly_func (x, w_ary, m):\n",
    "        y = w_ary[0]\n",
    "        w_idx = 1\n",
    "        for i in range(1,m+1): \n",
    "            val,w_idx = SumOverDim(i,w_ary,w_idx,x)          \n",
    "            y += val\n",
    "\n",
    "        return y\n",
    "\n",
    "    def Cal_rms(length, input_data, target_data, W, m):\n",
    "        Err = 0\n",
    "        for n in range(length):\n",
    "            # careful on the transpose result have to index into it again\n",
    "            Err += (poly_func(input_data[n], W.transpose()[0], m) - target_data[n])**2 \n",
    "        Err /= 2\n",
    "        RMS_err = np.sqrt((2*Err)/length)\n",
    "        \n",
    "        return RMS_err\n",
    "    \n",
    "    RMS_err_tr = Cal_rms(N_tr, tr_x, tr_t, W, M)\n",
    "    RMS_err_ts = Cal_rms(N_ts, ts_x, ts_t, W, M)\n",
    "    tr_rms_ary.append(RMS_err_tr)\n",
    "    ts_rms_ary.append(RMS_err_ts)\n",
    "    \n",
    "    print('training rms-Err for M = %s is %s.' % (str(M),str(RMS_err_tr)))\n",
    "    print('testing rms-Err for M = %s is %s.' % (str(M),str(RMS_err_ts)))"
   ]
  },
  {
   "cell_type": "code",
   "execution_count": 123,
   "metadata": {},
   "outputs": [
    {
     "name": "stdout",
     "output_type": "stream",
     "text": [
      "47.61000000000001\n",
      "21.39\n",
      "37.260000000000005\n",
      "14.490000000000002\n",
      "21.39\n",
      "9.610000000000001\n",
      "16.740000000000002\n",
      "6.510000000000001\n",
      "37.260000000000005\n",
      "16.740000000000002\n",
      "29.160000000000004\n",
      "11.340000000000002\n",
      "14.490000000000002\n",
      "6.510000000000001\n",
      "11.340000000000002\n",
      "4.41\n"
     ]
    }
   ],
   "source": [
    "for i in [6.9  ,3.1,  5.4,  2.1]:\n",
    "    for j in [6.9  ,3.1  ,5.4,  2.1]:\n",
    "        print(i*j)"
   ]
  },
  {
   "cell_type": "code",
   "execution_count": 75,
   "metadata": {},
   "outputs": [
    {
     "name": "stdout",
     "output_type": "stream",
     "text": [
      "[[4, 3, 2, 1, 1], [1, 1]]\n",
      "[[4, 3, 2, 1, 1, 5, 6, 7, 8888], [1, 1]]\n",
      "[list([4, 3, 2, 1, 1, 5, 6, 7, 8888]) list([1, 1])]\n",
      "<class 'numpy.ndarray'>\n",
      "(2,)\n",
      "[1.0, 4, 5, 6]\n",
      "[ 1  4  9 16]\n",
      "[[1 2 3 4]]\n",
      "[[1]\n",
      " [2]\n",
      " [3]\n",
      " [4]]\n",
      "[[ 1  2  3  4]\n",
      " [ 2  4  6  8]\n",
      " [ 3  6  9 12]\n",
      " [ 4  8 12 16]]\n",
      "dot-result = [[ 1  2  3  4  2  4  6  8  3  6  9 12  4  8 12 16]], type = <class 'numpy.ndarray'>\n",
      "dot-result,first-element =  [ 1  2  3  4  2  4  6  8  3  6  9 12  4  8 12 16]\n",
      "dot-result = [1, 2, 3, 4, 2, 4, 6, 8, 3, 6, 9, 12, 4, 8, 12, 16], type = <class 'list'>\n",
      "[[1]\n",
      " [2]\n",
      " [3]\n",
      " [4]]\n",
      "[[1]\n",
      " [2]\n",
      " [3]\n",
      " [4]]\n"
     ]
    }
   ],
   "source": [
    "# test on ary, lst concatenate\n",
    "tst = []\n",
    "tst.append([4,3,2,1,1])\n",
    "tst.append([1,1])\n",
    "print(tst)\n",
    "tst[0]= tst[0]+[5,6,7,8888]\n",
    "print(tst)\n",
    "tst_ary = np.asarray(tst)\n",
    "print(tst_ary)\n",
    "print(type(tst_ary))\n",
    "print(tst_ary.shape)\n",
    "\n",
    "ary = np.zeros((3,1))\n",
    "# ary[0] = np.concatenate(ary[0], np.array([444,4]))\n",
    "# print(np.concatenate(ary[0], np.array([444,4])))\n",
    "\n",
    "lst =  [list(x) for x in np.ones((N_tr,1))]\n",
    "print(lst[0]+[4,5,6])\n",
    "\n",
    "# test on matrix power\n",
    "print(np.power(np.array([1,2,3,4]),2))\n",
    "\n",
    "# test on dot\n",
    "x_tmp = np.array([1,2,3,4])\n",
    "print(x_tmp.reshape(1,4))\n",
    "print(np.atleast_2d(x_tmp).T)\n",
    "print(np.dot(np.atleast_2d(x_tmp).T,  x_tmp.reshape(1,4)))\n",
    "dotary = np.dot(np.atleast_2d(x_tmp).T,  x_tmp.reshape(1,4)).reshape(1,-1)\n",
    "print('dot-result = %s, type = %s' % (dotary,type(dotary)))\n",
    "print('dot-result,first-element = ',dotary[0])\n",
    "print('dot-result = %s, type = %s' % (list(dotary[0]),type(list(dotary[0]))))\n",
    "print(np.dot(np.atleast_2d(x_tmp).T,  1))\n",
    "print(np.dot(1,  x_tmp.reshape(1,4)).reshape(4,1))\n"
   ]
  },
  {
   "cell_type": "code",
   "execution_count": 107,
   "metadata": {},
   "outputs": [
    {
     "name": "stdout",
     "output_type": "stream",
     "text": [
      "<class 'str'>\n",
      "0.89\n",
      "12.57\n"
     ]
    }
   ],
   "source": [
    "num = format(0.88888889, '.2f')\n",
    "print(type(num))\n",
    "print(float(num))\n",
    "print(round(12.565687412, 2))"
   ]
  },
  {
   "cell_type": "code",
   "execution_count": null,
   "metadata": {
    "collapsed": true
   },
   "outputs": [],
   "source": []
  }
 ],
 "metadata": {
  "kernelspec": {
   "display_name": "Python 3",
   "language": "python",
   "name": "python3"
  },
  "language_info": {
   "codemirror_mode": {
    "name": "ipython",
    "version": 3
   },
   "file_extension": ".py",
   "mimetype": "text/x-python",
   "name": "python",
   "nbconvert_exporter": "python",
   "pygments_lexer": "ipython3",
   "version": "3.6.2"
  }
 },
 "nbformat": 4,
 "nbformat_minor": 2
}
