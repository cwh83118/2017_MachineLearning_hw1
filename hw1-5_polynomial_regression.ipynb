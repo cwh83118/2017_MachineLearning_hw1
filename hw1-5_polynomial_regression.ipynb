{
 "cells": [
  {
   "cell_type": "markdown",
   "metadata": {},
   "source": [
    "## Polynomial Regression\n",
    "Apply polynomial regression on real-world problem which has multi-dimension on input data.</br>\n",
    "\n",
    "##### Data\n",
    "There are 3 classes of 50 instances for each. </br>\n",
    "The first 40 samples of each class are used as training set, and the last 10 samples as testing set.</br>\n",
    "**Number of attributes**: 5 (4-dim input (data), 1-dim targrt (class-label))"
   ]
  },
  {
   "cell_type": "code",
   "execution_count": 4,
   "metadata": {
    "collapsed": true
   },
   "outputs": [],
   "source": [
    "import pandas as pd\n",
    "import numpy as np\n",
    "from numpy.linalg import inv\n",
    "from scipy.io import loadmat"
   ]
  },
  {
   "cell_type": "markdown",
   "metadata": {},
   "source": [
    "### Load and preprocess data"
   ]
  },
  {
   "cell_type": "code",
   "execution_count": 26,
   "metadata": {},
   "outputs": [
    {
     "name": "stdout",
     "output_type": "stream",
     "text": [
      "[[ 5.   3.5  1.3  0.3]\n",
      " [ 4.5  2.3  1.3  0.3]\n",
      " [ 4.4  3.2  1.3  0.2]\n",
      " [ 5.   3.5  1.6  0.6]\n",
      " [ 5.1  3.8  1.9  0.4]\n",
      " [ 4.8  3.   1.4  0.3]\n",
      " [ 5.1  3.8  1.6  0.2]\n",
      " [ 4.6  3.2  1.4  0.2]\n",
      " [ 5.3  3.7  1.5  0.2]\n",
      " [ 5.   3.3  1.4  0.2]\n",
      " [ 5.5  2.6  4.4  1.2]\n",
      " [ 6.1  3.   4.6  1.4]\n",
      " [ 5.8  2.6  4.   1.2]\n",
      " [ 5.   2.3  3.3  1. ]\n",
      " [ 5.6  2.7  4.2  1.3]\n",
      " [ 5.7  3.   4.2  1.2]\n",
      " [ 5.7  2.9  4.2  1.3]\n",
      " [ 6.2  2.9  4.3  1.3]\n",
      " [ 5.1  2.5  3.   1.1]\n",
      " [ 5.7  2.8  4.1  1.3]\n",
      " [ 6.7  3.1  5.6  2.4]\n",
      " [ 6.9  3.1  5.1  2.3]\n",
      " [ 5.8  2.7  5.1  1.9]\n",
      " [ 6.8  3.2  5.9  2.3]\n",
      " [ 6.7  3.3  5.7  2.5]\n",
      " [ 6.7  3.   5.2  2.3]\n",
      " [ 6.3  2.5  5.   1.9]\n",
      " [ 6.5  3.   5.2  2. ]\n",
      " [ 6.2  3.4  5.4  2.3]\n",
      " [ 5.9  3.   5.1  1.8]]\n",
      "[ 1.  1.  1.  1.  1.  1.  1.  1.  1.  1.  2.  2.  2.  2.  2.  2.  2.  2.\n",
      "  2.  2.  3.  3.  3.  3.  3.  3.  3.  3.  3.  3.]\n"
     ]
    }
   ],
   "source": [
    "data_dir = './data/'\n",
    "x = loadmat(data_dir+'5_X.mat')['X']\n",
    "t = loadmat(data_dir+'5_T.mat')['T']\n",
    "# print(tr)\n",
    "# print(ts)\n",
    "\n",
    "x_dim = 4\n",
    "t_dim = 1\n",
    "\n",
    "# prepare to divide into training and testing\n",
    "x = x.reshape(3,50,4)\n",
    "t = t.reshape(3,50)\n",
    "\n",
    "# divide into train and test\n",
    "n_per_class = 50 \n",
    "tr_x = np.zeros((120,x_dim))\n",
    "ts_x = np.zeros((30,x_dim))\n",
    "tr_t = np.zeros(120)\n",
    "ts_t = np.zeros(30)\n",
    "for cls in [0,1,2]:\n",
    "    tr_x[(cls)*40:(cls+1)*40] = x[cls][:40]\n",
    "    ts_x[(cls)*10:(cls+1)*10] = x[cls][40:]\n",
    "    tr_t[(cls)*40:(cls+1)*40] = t[cls][:40]\n",
    "    ts_t[(cls)*10:(cls+1)*10] = t[cls][40:]\n",
    "# print(ts_x)\n",
    "# print(ts_t)"
   ]
  },
  {
   "cell_type": "markdown",
   "metadata": {},
   "source": [
    "### Apply regression for class estimation by minimizing the non-regularized error function\n",
    "\n",
    "The error function looks like below:\n",
    "\n",
    "$$E(w) = \\frac{1}{2}*\\sum_{n=1}^{N}(y(x_n,w)-t_n)^{2} $$\n",
    "\n",
    "However, since our input, x, now turn to be multi-dimension, the polynomial function should be generalized, here is an example of order=2 (**M=2**):\n",
    "\n",
    "\n",
    "$$y(x,w) = w_0 + \\sum_{i=1}^{D}w_i*x_i + \\sum_{i=1}^{D}\\sum_{j=1}^{D}w_{ij}*x_i*x_j $$\n",
    "\n",
    "note that in this problem, the dimension, D, equals to 4"
   ]
  },
  {
   "cell_type": "code",
   "execution_count": 27,
   "metadata": {},
   "outputs": [],
   "source": [
    "M = 1\n",
    "# the problem of defining Phi_mat!!!"
   ]
  },
  {
   "cell_type": "code",
   "execution_count": null,
   "metadata": {
    "collapsed": true
   },
   "outputs": [],
   "source": []
  }
 ],
 "metadata": {
  "kernelspec": {
   "display_name": "Python 3",
   "language": "python",
   "name": "python3"
  },
  "language_info": {
   "codemirror_mode": {
    "name": "ipython",
    "version": 3
   },
   "file_extension": ".py",
   "mimetype": "text/x-python",
   "name": "python",
   "nbconvert_exporter": "python",
   "pygments_lexer": "ipython3",
   "version": "3.6.2"
  }
 },
 "nbformat": 4,
 "nbformat_minor": 2
}
