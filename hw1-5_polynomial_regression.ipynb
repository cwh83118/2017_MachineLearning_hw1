{
 "cells": [
  {
   "cell_type": "markdown",
   "metadata": {},
   "source": [
    "## Polynomial Regression\n",
    "Apply polynomial regression on real-world problem which has multi-dimension on input data.</br>\n",
    "\n",
    "##### Data\n",
    "There are 3 classes of 50 instances for each. </br>\n",
    "The first 40 samples of each class are used as training set, and the last 10 samples as testing set.</br>\n",
    "\n",
    "**Number of attributes**: 5 (4-dim input (data), 1-dim targrt (class-label))"
   ]
  },
  {
   "cell_type": "code",
   "execution_count": 191,
   "metadata": {
    "collapsed": true
   },
   "outputs": [],
   "source": [
    "import pandas as pd\n",
    "import numpy as np\n",
    "from numpy.linalg import pinv,inv,matrix_power\n",
    "from scipy.io import loadmat"
   ]
  },
  {
   "cell_type": "markdown",
   "metadata": {},
   "source": [
    "### Load and preprocess data"
   ]
  },
  {
   "cell_type": "code",
   "execution_count": 194,
   "metadata": {},
   "outputs": [],
   "source": [
    "data_dir = './data/'\n",
    "x = loadmat(data_dir+'5_X.mat')['X']\n",
    "t = loadmat(data_dir+'5_T.mat')['T']\n",
    "# print(tr)\n",
    "# print(ts)\n",
    "\n",
    "x_dim = 4\n",
    "t_dim = 1\n",
    "n_per_class = 50 \n",
    "class_n = 3\n",
    "\n",
    "# prepare to divide into training and testing\n",
    "x = x.reshape(class_n,n_per_class,x_dim)\n",
    "t = t.reshape(class_n,n_per_class)\n",
    "\n",
    "# divide into train and test\n",
    "tr_n_per_class = 40\n",
    "ts_n_per_class = 10\n",
    "tr_x = np.zeros((tr_n_per_class*class_n , x_dim))\n",
    "ts_x = np.zeros((ts_n_per_class*class_n , x_dim))\n",
    "tr_t = np.zeros(tr_n_per_class*class_n)\n",
    "ts_t = np.zeros(ts_n_per_class*class_n)\n",
    "for cls in range(class_n):\n",
    "    tr_x[(cls)*tr_n_per_class:(cls+1)*tr_n_per_class] = x[cls][:tr_n_per_class]\n",
    "    ts_x[(cls)*ts_n_per_class:(cls+1)*ts_n_per_class] = x[cls][tr_n_per_class:]\n",
    "    tr_t[(cls)*tr_n_per_class:(cls+1)*tr_n_per_class] = t[cls][:tr_n_per_class]\n",
    "    ts_t[(cls)*ts_n_per_class:(cls+1)*ts_n_per_class] = t[cls][tr_n_per_class:]\n",
    "\n",
    "N_tr = len(tr_t)\n",
    "N_ts = len(ts_t)\n"
   ]
  },
  {
   "cell_type": "markdown",
   "metadata": {},
   "source": [
    "### Apply regression for class estimation by minimizing the non-regularized error function\n",
    "\n",
    "The error function looks like below:\n",
    "\n",
    "$$E(w) = \\frac{1}{2}*\\sum_{n=1}^{N}(y(x_n,w)-t_n)^{2} $$\n",
    "\n",
    "However, since our input, x, now turn to be multi-dimension, the polynomial function should be generalized, here is an example of order=2 (**M=2**):\n",
    "\n",
    "\n",
    "$$y(x,w) = w_0 + \\sum_{i=1}^{D}w_i*x_i + \\sum_{i=1}^{D}\\sum_{j=1}^{D}w_{ij}*x_i*x_j $$\n",
    "\n",
    "note that in this problem, the dimension, D, equals to 4"
   ]
  },
  {
   "cell_type": "code",
   "execution_count": 195,
   "metadata": {},
   "outputs": [
    {
     "name": "stdout",
     "output_type": "stream",
     "text": [
      "training rms-Err for M = 1 is 0.226279143015.\n",
      "testing rms-Err for M = 1 is 0.171124893337.\n",
      "training rms-Err for M = 2 is 0.188594629096.\n",
      "testing rms-Err for M = 2 is 0.153232445343.\n"
     ]
    }
   ],
   "source": [
    "'''\n",
    "compare to preoblem4, the only difference is the form of 'phi', o.w. the other stuffs like the solution of W still \n",
    "equals to (phi^T * phi)^-1 * phi^T * t.\n",
    "phi = [[x1^0,x1^1....x1^M],[x2^0,x2^1....x2^M], .... [xN^0,xN^1....xN^M]], while each x1, x2, ... xN are all in \n",
    "'Vector' form.\n",
    "t = [t1,t2,t3 ... ,tN], which are just 'class-label' of each xN\n",
    "'''\n",
    "def VecPower(vec, power):\n",
    "    vec = np.asarray(vec).reshape(1,len(vec))\n",
    "    mat_prev = 1\n",
    "    for i in range(power):\n",
    "        mat = np.dot(mat_prev,  vec)\n",
    "        mat_prev = mat.reshape(-1,1) # reshape as (_,1) to preapre next for-loop matrix-multiplication\n",
    "    \n",
    "    result = mat.reshape(1,-1)[0]\n",
    "    return result\n",
    "\n",
    "tr_rms_ary = []\n",
    "ts_rms_ary = []\n",
    "Ms = [1,2]\n",
    "for M in Ms:\n",
    "    W_mat = [] \n",
    "    # Init data-num, valu-M and matrix-initialization\n",
    "    # initial phi_mat with [[x1^{0}],[x2^{0}], ... ,[xN^{0}]], and turn it into list-type to prepare concate.\n",
    "    Phi_mat = [list(x) for x in np.ones((N_tr,1))]\n",
    "    T = np.zeros((N_tr,1))\n",
    "    W = []\n",
    "\n",
    "    for r_idx in range(N_tr):\n",
    "        X_mat.append([1])# xN^{0} = 1\n",
    "        for c_idx in range(M):\n",
    "            # concate diff. power of same xN result in one row\n",
    "            Phi_mat[r_idx] = Phi_mat[r_idx] + list(VecPower(tr_x[r_idx],c_idx+1))\n",
    "        T[r_idx][0] = tr_t[r_idx]\n",
    "\n",
    "    Phi_mat = np.asarray(Phi_mat)\n",
    "    \n",
    "    # Start calculating W result\n",
    "    W = np.dot( pinv(Phi_mat) , T)\n",
    "    \n",
    "    # save w-vector power and later use in y(x,w)\n",
    "    s_p = 0\n",
    "    for i in range(M+1):\n",
    "        size_w = x_dim**i\n",
    "        W_mat.append(W[s_p:s_p+size_w])\n",
    "        s_p += size_w\n",
    "        \n",
    "#     print(W)\n",
    "#     print(W_mat[1])\n",
    "#     print(X_mat[1])\n",
    "    \n",
    "    \n",
    "    # Root mean square\n",
    "    def poly_func (input_data, m):\n",
    "        val = 0    \n",
    "        for i in range(m+1): \n",
    "            if i == 0:\n",
    "                x_ = 1\n",
    "            elif i == 1:\n",
    "                x_ = np.asarray(input_data)\n",
    "                x_ = x_.reshape(1,-1)[0]\n",
    "            elif i == 2:\n",
    "                x_ = np.asarray([[x*y for y in input_data] for x in input_data])\n",
    "                x_ = x_.reshape(1,-1)[0]\n",
    "\n",
    "            w_ = W_mat[i].reshape(1,-1)[0]\n",
    "            val += np.sum(x_ * w_)\n",
    "            \n",
    "        return val\n",
    "\n",
    "    def Cal_rms(length, input_data, target_data, W, m):\n",
    "        Err = 0\n",
    "        for n in range(length):\n",
    "            # careful on the transpose result have to index into it again\n",
    "            Err += (poly_func(input_data[n], m) - target_data[n])**2 \n",
    "        Err /= 2\n",
    "        RMS_err = np.sqrt((2*Err)/length)\n",
    "        \n",
    "        return RMS_err\n",
    "    \n",
    "    RMS_err_tr = Cal_rms(N_tr, tr_x, tr_t, W, M)\n",
    "    RMS_err_ts = Cal_rms(N_ts, ts_x, ts_t, W, M)\n",
    "    tr_rms_ary.append(RMS_err_tr)\n",
    "    ts_rms_ary.append(RMS_err_ts)\n",
    "    \n",
    "    print('training rms-Err for M = %s is %s.' % (str(M),str(RMS_err_tr)))\n",
    "    print('testing rms-Err for M = %s is %s.' % (str(M),str(RMS_err_ts)))"
   ]
  },
  {
   "cell_type": "code",
   "execution_count": null,
   "metadata": {
    "collapsed": true
   },
   "outputs": [],
   "source": [
    "#Find best attribute\n"
   ]
  }
 ],
 "metadata": {
  "kernelspec": {
   "display_name": "Python 3",
   "language": "python",
   "name": "python3"
  },
  "language_info": {
   "codemirror_mode": {
    "name": "ipython",
    "version": 3
   },
   "file_extension": ".py",
   "mimetype": "text/x-python",
   "name": "python",
   "nbconvert_exporter": "python",
   "pygments_lexer": "ipython3",
   "version": "3.6.2"
  }
 },
 "nbformat": 4,
 "nbformat_minor": 2
}
